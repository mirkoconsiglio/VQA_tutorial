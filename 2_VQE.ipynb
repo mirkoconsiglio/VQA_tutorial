{
 "cells": [
  {
   "cell_type": "code",
   "execution_count": 23,
   "metadata": {
    "ExecuteTime": {
     "end_time": "2024-08-28T11:48:09.406546Z",
     "start_time": "2024-08-28T11:48:09.080523Z"
    },
    "collapsed": false,
    "jupyter": {
     "outputs_hidden": false
    },
    "pycharm": {
     "is_executing": true
    }
   },
   "outputs": [],
   "source": [
    "# Pre-defined ansatz circuit and operator class for Hamiltonian\n",
    "from qiskit.circuit.library import EfficientSU2\n",
    "from qiskit.quantum_info import SparsePauliOp, Statevector\n",
    "\n",
    "# BFGS minimizer routine\n",
    "from qiskit_algorithms.optimizers import L_BFGS_B\n",
    "\n",
    "# Plotting functions\n",
    "import matplotlib.pyplot as plt"
   ]
  },
  {
   "cell_type": "markdown",
   "metadata": {
    "collapsed": false,
    "jupyter": {
     "outputs_hidden": false
    }
   },
   "source": [
    "$$\\newcommand{\\ket}[1]{\\left|{#1}\\right\\rangle}$$\n",
    "$$\\newcommand{\\bra}[1]{\\left\\langle{#1}\\right|}$$\n",
    "\n",
    "# Variational Quantum Eigensolver\n",
    "\n",
    "The VQE is the first type of hybrid quantum--classical which was proposed, and it is the first one we will deal with. The cost function in this case based on the Ritz variational principle, that is\n",
    "\n",
    "\\begin{equation}\n",
    "    C(\\boldsymbol{\\theta}) = \\bra{\\psi(\\boldsymbol{\\theta})}\\mathcal{H}\\ket{psi(\\boldsymbol{\\theta})}.\n",
    "\\end{equation}\n",
    "\n",
    "The minimum of this function is the ground-state energy:\n",
    "\n",
    "\\begin{equation}\n",
    "    E_0 = \\min_{\\boldsymbol{\\theta}}\\bra{\\psi(\\boldsymbol{\\theta})}\\mathcal{H}\\ket{psi(\\boldsymbol{\\theta})}.\n",
    "\\end{equation}\n",
    "\n",
    "We thus have the first component of our VQA, the cost function. Let us now define it in terms of code\n"
   ]
  },
  {
   "cell_type": "code",
   "execution_count": 17,
   "metadata": {},
   "outputs": [],
   "source": [
    "def cost_function(theta, ansatz, hamiltonian):\n",
    "\tcircuit = ansatz.assign_parameters(theta)  # bind parameters to circuit\n",
    "\tstatevector = Statevector(circuit)  # get statevector representation\n",
    "\texp = statevector.expectation_value(hamiltonian).real  # evaluation expectation value\n",
    "\n",
    "\treturn exp"
   ]
  },
  {
   "cell_type": "markdown",
   "metadata": {
    "collapsed": false,
    "jupyter": {
     "outputs_hidden": false
    }
   },
   "source": [
    "## Hamiltonian\n",
    "\n",
    "Our next two components: the PQC and measurement strategy, may depend quite a bit on our Hamiltonian, and any constraints which we wish to satisfy (however for the sake of simplicity we will suppose that we have no extra constraints). However, for now we shall take statevector simulations, that is we assume that we have perfect information of the quantum state (we have access to its vector representation). Thus, we need not worry about the measurement technique yet. This is useful for prototyping your VQA, ensuring that everything works.\n",
    "\n",
    "We shall take a simplified $H_2$ model at $0.735$Å, which can be written in Qiskit as"
   ]
  },
  {
   "cell_type": "code",
   "execution_count": 18,
   "metadata": {
    "collapsed": false,
    "jupyter": {
     "outputs_hidden": false
    }
   },
   "outputs": [],
   "source": [
    "hamiltonian = SparsePauliOp.from_list(\n",
    "    [(\"YZ\", 0.3980), (\"ZI\", -0.3980), (\"ZZ\", -0.0113), (\"XX\", 0.1810)]\n",
    ")"
   ]
  },
  {
   "cell_type": "markdown",
   "metadata": {
    "collapsed": false,
    "jupyter": {
     "outputs_hidden": false
    }
   },
   "source": [
    "## Parameterized quantum circuit\n",
    "\n",
    "Now let's proceed to use a simple two local ansatz, that is an ansatz which alternates between parameterized one-qubit gates, and (non-parameterized) two-qubit entangling gates"
   ]
  },
  {
   "cell_type": "code",
   "execution_count": 19,
   "metadata": {
    "collapsed": false,
    "jupyter": {
     "outputs_hidden": false
    }
   },
   "outputs": [
    {
     "data": {
      "image/png": "[encoded data removed]",
      "text/plain": [
       "<Figure size 1039.79x200.667 with 1 Axes>"
      ]
     },
     "execution_count": 19,
     "metadata": {},
     "output_type": "execute_result"
    }
   ],
   "source": [
    "ansatz = EfficientSU2(hamiltonian.num_qubits)\n",
    "ansatz.decompose().draw(\"mpl\", style=\"iqp\")"
   ]
  },
  {
   "cell_type": "markdown",
   "metadata": {
    "collapsed": false,
    "jupyter": {
     "outputs_hidden": false
    }
   },
   "source": [
    "## Classical optimizer\n",
    "\n",
    "As we said, for now shall focus on statevector simulations and not worry about measurements. The next step is then choose a classical optimizer. Qiskit has many optimizers to choose from. Quite a bit of them are based on Scipy's implementations. We will take the sequential least squares programming (SLSQP) optimizer for the time being"
   ]
  },
  {
   "cell_type": "code",
   "execution_count": 20,
   "metadata": {
    "collapsed": false,
    "jupyter": {
     "outputs_hidden": false
    }
   },
   "outputs": [],
   "source": [
    "optimizer = L_BFGS_B(args=(ansatz, hamiltonian))  # extra arguments in the cost function need to be included"
   ]
  },
  {
   "cell_type": "markdown",
   "metadata": {
    "collapsed": false,
    "jupyter": {
     "outputs_hidden": false
    }
   },
   "source": [
    "## Putting it all together\n",
    "\n",
    "We now just need to run the algorithm optimizing through to get our ground-state energy"
   ]
  },
  {
   "cell_type": "code",
   "execution_count": 24,
   "metadata": {
    "collapsed": false,
    "jupyter": {
     "outputs_hidden": false
    }
   },
   "outputs": [
    {
     "name": "stdout",
     "output_type": "stream",
     "text": [
      "{   'fun': np.float64(-0.7029303944427259),\n",
      "    'jac': None,\n",
      "    'nfev': 221,\n",
      "    'nit': 12,\n",
      "    'njev': 13,\n",
      "    'x': array([-0.18559226, -1.57289024,  2.01951134, -0.60420642, -3.08386443,\n",
      "        1.87527889,  2.17975187,  0.62579538, -1.21227154, -3.23294541,\n",
      "       -1.24902101, -0.92447977,  1.82165919,  2.27032634, -0.72741229,\n",
      "       -2.73597372])}\n"
     ]
    }
   ],
   "source": [
    "x0 = np.random.uniform(-np.pi, np.pi, len(ansatz.parameters))  # We need an initial point (which can be random)\n",
    "\n",
    "result = optimizer.minimize(fun=cost_function, x0=x0)\n",
    "\n",
    "print(result)"
   ]
  },
  {
   "cell_type": "code",
   "execution_count": 43,
   "metadata": {
    "collapsed": false,
    "jupyter": {
     "outputs_hidden": false
    }
   },
   "outputs": [],
   "source": []
  }
 ],
 "metadata": {
  "kernelspec": {
   "display_name": "Python 3 (ipykernel)",
   "language": "python",
   "name": "python3"
  },
  "language_info": {
   "codemirror_mode": {
    "name": "ipython",
    "version": 3
   },
   "file_extension": ".py",
   "mimetype": "text/x-python",
   "name": "python",
   "nbconvert_exporter": "python",
   "pygments_lexer": "ipython3",
   "version": "3.11.9"
  }
 },
 "nbformat": 4,
 "nbformat_minor": 4
}
