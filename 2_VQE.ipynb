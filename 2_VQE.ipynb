{
 "cells": [
  {
   "cell_type": "code",
   "source": [
    "import numpy as np\n",
    "from qiskit.quantum_info import Statevector\n",
    "from qiskit.opflow import X, Z, I\n",
    "from qiskit.circuit.library import TwoLocal\n",
    "from qiskit.algorithms.optimizers import SLSQP"
   ],
   "metadata": {
    "collapsed": false,
    "pycharm": {
     "is_executing": true
    },
    "ExecuteTime": {
     "end_time": "2024-08-28T11:48:09.406546Z",
     "start_time": "2024-08-28T11:48:09.080523Z"
    }
   },
   "outputs": [
    {
     "ename": "ModuleNotFoundError",
     "evalue": "No module named 'numpy'",
     "output_type": "error",
     "traceback": [
      "\u001B[1;31m---------------------------------------------------------------------------\u001B[0m",
      "\u001B[1;31mModuleNotFoundError\u001B[0m                       Traceback (most recent call last)",
      "Cell \u001B[1;32mIn[1], line 1\u001B[0m\n\u001B[1;32m----> 1\u001B[0m \u001B[38;5;28;01mimport\u001B[39;00m \u001B[38;5;21;01mnumpy\u001B[39;00m \u001B[38;5;28;01mas\u001B[39;00m \u001B[38;5;21;01mnp\u001B[39;00m\n\u001B[0;32m      2\u001B[0m \u001B[38;5;28;01mfrom\u001B[39;00m \u001B[38;5;21;01mqiskit\u001B[39;00m\u001B[38;5;21;01m.\u001B[39;00m\u001B[38;5;21;01mquantum_info\u001B[39;00m \u001B[38;5;28;01mimport\u001B[39;00m Statevector\n\u001B[0;32m      3\u001B[0m \u001B[38;5;28;01mfrom\u001B[39;00m \u001B[38;5;21;01mqiskit\u001B[39;00m\u001B[38;5;21;01m.\u001B[39;00m\u001B[38;5;21;01mopflow\u001B[39;00m \u001B[38;5;28;01mimport\u001B[39;00m X, Z, I\n",
      "\u001B[1;31mModuleNotFoundError\u001B[0m: No module named 'numpy'"
     ]
    }
   ],
   "execution_count": 1
  },
  {
   "cell_type": "markdown",
   "source": [
    "$$\\newcommand{\\ket}[1]{\\left|{#1}\\right\\rangle}$$\n",
    "$$\\newcommand{\\bra}[1]{\\left\\langle{#1}\\right|}$$\n",
    "\n",
    "# Variational Quantum Eigensolver\n",
    "\n",
    "The VQE is the first type of hybrid quantum--classical which was proposed, and it is the first one we will deal with. The cost function in this case based on the Ritz variational principle, that is\n",
    "\n",
    "\\begin{equation}\n",
    "    C(\\boldsymbol{\\theta}) = \\bra{\\psi(\\boldsymbol{\\theta})}\\mathcal{H}\\ket{psi(\\boldsymbol{\\theta})}.\n",
    "\\end{equation}\n",
    "\n",
    "The minimum of this function is the ground-state energy:\n",
    "\n",
    "\\begin{equation}\n",
    "    E_0 = \\min_{\\boldsymbol{\\theta}}\\bra{\\psi(\\boldsymbol{\\theta})}\\mathcal{H}\\ket{psi(\\boldsymbol{\\theta})}.\n",
    "\\end{equation}\n",
    "\n",
    "We thus have the first component of our VQA, the cost function. Let us now define it in terms of code\n"
   ],
   "metadata": {
    "collapsed": false
   }
  },
  {
   "cell_type": "code",
   "execution_count": 39,
   "metadata": {},
   "outputs": [],
   "source": [
    "def cost_function(theta, ansatz, hamiltonian):\n",
    "\tcircuit = ansatz.bind_parameters(theta)  # bind parameters to circuit\n",
    "\tstatevector = Statevector(circuit)  # get statevector representation\n",
    "\texp = statevector.expectation_value(hamiltonian).real  # evaluation expectation value\n",
    "\n",
    "\treturn exp"
   ]
  },
  {
   "cell_type": "markdown",
   "source": [
    "## Hamiltonian\n",
    "\n",
    "Our next two components: the PQC and measurement strategy, may depend quite a bit on our Hamiltonian, and any constraints which we wish to satisfy (however for the sake of simplicity we will suppose that we have no extra constraints). However, for now we shall take statevector simulations, that is we assume that we have perfect information of the quantum state (we have access to its vector representation). Thus, we need not worry about the measurement technique yet. This is useful for prototyping your VQA, ensuring that everything works.\n",
    "\n",
    "We shall take a simplified $H_2$ model at $0.735\\AA$, which can be written in Qiskit as"
   ],
   "metadata": {
    "collapsed": false
   }
  },
  {
   "cell_type": "code",
   "execution_count": 40,
   "outputs": [],
   "source": [
    "H2_op = ((-1.052373245772859 * I ^ I) +\n",
    "         (0.39793742484318045 * I ^ Z) +\n",
    "         (-0.39793742484318045 * Z ^ I) +\n",
    "         (-0.01128010425623538 * Z ^ Z) +\n",
    "         (0.18093119978423156 * X ^ X))"
   ],
   "metadata": {
    "collapsed": false
   }
  },
  {
   "cell_type": "markdown",
   "source": [
    "Note that the caret operator: ^ denotes the tensor product between operators.\n",
    "\n",
    "## Parameterized quantum circuit\n",
    "\n",
    "Now let's proceed to use a simple two local ansatz, that is an ansatz which alternates between parameterized one-qubit gates, and (non-parameterized) two-qubit entangling gates"
   ],
   "metadata": {
    "collapsed": false
   }
  },
  {
   "cell_type": "code",
   "execution_count": 41,
   "outputs": [
    {
     "data": {
      "text/plain": "<Figure size 705.35x200.667 with 1 Axes>",
      "image/png": "[encoded data removed]"
     },
     "execution_count": 41,
     "metadata": {},
     "output_type": "execute_result"
    }
   ],
   "source": [
    "ansatz = TwoLocal(num_qubits=2, rotation_blocks='ry', entanglement_blocks='cz', reps=3)\n",
    "ansatz.decompose().draw(output='mpl')"
   ],
   "metadata": {
    "collapsed": false
   }
  },
  {
   "cell_type": "markdown",
   "source": [
    "## Classical optimizer\n",
    "\n",
    "As we said, for now shall focus on statevector simulations and not worry about measurements. The next step is then choose a classical optimizer. Qiskit has many optimizers to choose from. Quite a bit of them are based on Scipy's implementations. We will take the sequential least squares programming (SLSQP) optimizer for the time being"
   ],
   "metadata": {
    "collapsed": false
   }
  },
  {
   "cell_type": "code",
   "execution_count": 42,
   "outputs": [],
   "source": [
    "optimizer = SLSQP(args=(ansatz, H2_op))  # extra arguments in the cost function need to be included"
   ],
   "metadata": {
    "collapsed": false
   }
  },
  {
   "cell_type": "markdown",
   "source": [
    "## Putting it all together\n",
    "\n",
    "We now just need to run the algorithm optimizing through to get our ground-state energy"
   ],
   "metadata": {
    "collapsed": false
   }
  },
  {
   "cell_type": "code",
   "execution_count": 43,
   "outputs": [
    {
     "name": "stdout",
     "output_type": "stream",
     "text": [
      "{   'fun': -1.8572749967469635,\n",
      "    'jac': None,\n",
      "    'nfev': 74,\n",
      "    'nit': 8,\n",
      "    'njev': 8,\n",
      "    'x': array([-4.05686958,  3.74956252, -2.39394843,  1.90579462, -3.46615336,\n",
      "        0.36944634,  4.69557775,  4.6466283 ])}\n"
     ]
    }
   ],
   "source": [
    "x0 = np.random.uniform(-np.pi, np.pi, len(ansatz.parameters))  # We need an initial point (which can be random)\n",
    "\n",
    "result = optimizer.minimize(fun=cost_function, x0=x0)\n",
    "\n",
    "print(result)"
   ],
   "metadata": {
    "collapsed": false
   }
  },
  {
   "cell_type": "code",
   "execution_count": 43,
   "outputs": [],
   "source": [],
   "metadata": {
    "collapsed": false
   }
  }
 ],
 "metadata": {
  "kernelspec": {
   "display_name": "Python 3 (ipykernel)",
   "language": "python",
   "name": "python3"
  },
  "language_info": {
   "codemirror_mode": {
    "name": "ipython",
    "version": 3
   },
   "file_extension": ".py",
   "mimetype": "text/x-python",
   "name": "python",
   "nbconvert_exporter": "python",
   "pygments_lexer": "ipython3",
   "version": "3.10.4"
  }
 },
 "nbformat": 4,
 "nbformat_minor": 1
}
