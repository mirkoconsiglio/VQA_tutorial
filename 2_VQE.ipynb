{
 "cells": [
  {
   "cell_type": "code",
   "metadata": {
    "collapsed": false,
    "jupyter": {
     "outputs_hidden": false
    },
    "pycharm": {
     "is_executing": true
    },
    "ExecuteTime": {
     "end_time": "2024-09-01T10:39:56.392981Z",
     "start_time": "2024-09-01T10:39:56.387380Z"
    }
   },
   "source": [
    "import numpy as np\n",
    "from nbformat.sign import algorithms\n",
    "\n",
    "# Pre-defined ansatz circuit and operator class for Hamiltonian\n",
    "from qiskit.circuit.library import EfficientSU2\n",
    "from qiskit.quantum_info import SparsePauliOp, Statevector\n",
    "\n",
    "# BFGS minimizer routine\n",
    "from qiskit_algorithms.optimizers import L_BFGS_B\n",
    "\n",
    "# Plotting functions\n",
    "import matplotlib.pyplot as plt\n",
    "\n",
    "# Global dictionary\n",
    "cost_history_dict = {\n",
    "\t\"prev_vector\": None,\n",
    "\t\"iters\": 0,\n",
    "\t\"cost_history\": [],\n",
    "}"
   ],
   "outputs": [],
   "execution_count": 140
  },
  {
   "cell_type": "markdown",
   "metadata": {
    "collapsed": false,
    "jupyter": {
     "outputs_hidden": false
    }
   },
   "source": [
    "$$\\newcommand{\\ket}[1]{\\left|{#1}\\right\\rangle}$$\n",
    "$$\\newcommand{\\bra}[1]{\\left\\langle{#1}\\right|}$$\n",
    "\n",
    "# Variational Quantum Eigensolver\n",
    "\n",
    "The VQE is the first type of hybrid quantum--classical which was proposed, and it is the first one we will deal with. The cost function in this case based on the Ritz variational principle, that is\n",
    "\n",
    "\\begin{equation}\n",
    "    C(\\boldsymbol{\\theta}) = \\bra{\\psi(\\boldsymbol{\\theta})}\\mathcal{H}\\ket{psi(\\boldsymbol{\\theta})}.\n",
    "\\end{equation}\n",
    "\n",
    "The minimum of this function is the ground-state energy:\n",
    "\n",
    "\\begin{equation}\n",
    "    E_0 = \\min_{\\boldsymbol{\\theta}}\\bra{\\psi(\\boldsymbol{\\theta})}\\mathcal{H}\\ket{psi(\\boldsymbol{\\theta})}.\n",
    "\\end{equation}\n",
    "\n",
    "We thus have the first component of our VQA, the cost function. Let us now define it in terms of code\n"
   ]
  },
  {
   "cell_type": "code",
   "metadata": {
    "ExecuteTime": {
     "end_time": "2024-09-01T10:39:56.448891Z",
     "start_time": "2024-09-01T10:39:56.442949Z"
    }
   },
   "source": [
    "def cost_function(theta):\n",
    "\tcircuit = ansatz.assign_parameters(theta)  # bind parameters to circuit\n",
    "\tstatevector = Statevector(circuit)  # get statevector representation\n",
    "\texp = statevector.expectation_value(hamiltonian).real  # evaluation expectation value\n",
    "\t\n",
    "\tcost_history_dict[\"iters\"] += 1\n",
    "\tcost_history_dict[\"prev_vector\"] = theta\n",
    "\tcost_history_dict[\"cost_history\"].append(exp)\n",
    "\t\n",
    "\tprint(f\"Iter: {cost_history_dict['iters']}, Cost: {exp}\")\n",
    "\n",
    "\treturn exp"
   ],
   "outputs": [],
   "execution_count": 141
  },
  {
   "cell_type": "markdown",
   "metadata": {
    "collapsed": false,
    "jupyter": {
     "outputs_hidden": false
    }
   },
   "source": [
    "## Hamiltonian\n",
    "\n",
    "Our next two components: the PQC and measurement strategy, may depend quite a bit on our Hamiltonian, and any constraints which we wish to satisfy (however for the sake of simplicity we will suppose that we have no extra constraints). However, for now we shall take statevector simulations, that is we assume that we have perfect information of the quantum state (we have access to its vector representation). Thus, we need not worry about the measurement technique yet. This is useful for prototyping your VQA, ensuring that everything works.\n",
    "\n",
    "We shall take a simplified $H_2$ model at $0.735$Å, which can be written in Qiskit as"
   ]
  },
  {
   "cell_type": "code",
   "metadata": {
    "collapsed": false,
    "jupyter": {
     "outputs_hidden": false
    },
    "ExecuteTime": {
     "end_time": "2024-09-01T10:39:56.501260Z",
     "start_time": "2024-09-01T10:39:56.496562Z"
    }
   },
   "source": [
    "hamiltonian = SparsePauliOp.from_list(\n",
    "    [(\"YZ\", 0.3980), (\"ZI\", -0.3980), (\"ZZ\", -0.0113), (\"XX\", 0.1810)]\n",
    ")"
   ],
   "outputs": [],
   "execution_count": 142
  },
  {
   "cell_type": "markdown",
   "metadata": {
    "collapsed": false,
    "jupyter": {
     "outputs_hidden": false
    }
   },
   "source": [
    "## Parameterized quantum circuit\n",
    "\n",
    "Now let's proceed to use a simple two local ansatz, that is an ansatz which alternates between parameterized one-qubit gates, and (non-parameterized) two-qubit entangling gates"
   ]
  },
  {
   "cell_type": "code",
   "metadata": {
    "collapsed": false,
    "jupyter": {
     "outputs_hidden": false
    },
    "ExecuteTime": {
     "end_time": "2024-09-01T10:39:56.760466Z",
     "start_time": "2024-09-01T10:39:56.556467Z"
    }
   },
   "source": [
    "ansatz = EfficientSU2(hamiltonian.num_qubits)\n",
    "ansatz.decompose().draw(\"mpl\", style=\"iqp\")"
   ],
   "outputs": [
    {
     "data": {
      "text/plain": [
       "<Figure size 1039.79x200.667 with 1 Axes>"
      ],
      "image/png": "[encoded data removed]"
     },
     "execution_count": 143,
     "metadata": {},
     "output_type": "execute_result"
    }
   ],
   "execution_count": 143
  },
  {
   "cell_type": "markdown",
   "metadata": {
    "collapsed": false,
    "jupyter": {
     "outputs_hidden": false
    }
   },
   "source": [
    "## Classical optimizer\n",
    "\n",
    "As we said, for now shall focus on statevector simulations and not worry about measurements. The next step is then choose a classical optimizer. Qiskit has many optimizers to choose from. Quite a bit of them are based on Scipy's implementations. We will take the L-BFGS-B optimizer for the time being."
   ]
  },
  {
   "cell_type": "code",
   "metadata": {
    "collapsed": false,
    "jupyter": {
     "outputs_hidden": false
    },
    "ExecuteTime": {
     "end_time": "2024-09-01T10:39:56.784449Z",
     "start_time": "2024-09-01T10:39:56.780422Z"
    }
   },
   "source": "optimizer = L_BFGS_B()",
   "outputs": [],
   "execution_count": 144
  },
  {
   "cell_type": "markdown",
   "metadata": {
    "collapsed": false,
    "jupyter": {
     "outputs_hidden": false
    }
   },
   "source": [
    "## Putting it all together\n",
    "\n",
    "We now just need to run the algorithm optimizing through to get our ground-state energy"
   ]
  },
  {
   "cell_type": "code",
   "metadata": {
    "collapsed": false,
    "jupyter": {
     "outputs_hidden": false
    },
    "ExecuteTime": {
     "end_time": "2024-09-01T10:39:57.595396Z",
     "start_time": "2024-09-01T10:39:56.832668Z"
    }
   },
   "source": [
    "x0 = np.random.uniform(-np.pi, np.pi, len(ansatz.parameters))  # We need an initial point (which can be random)\n",
    "\n",
    "result = optimizer.minimize(fun=cost_function, x0=x0)\n",
    "\n",
    "print(result)"
   ],
   "outputs": [
    {
     "name": "stdout",
     "output_type": "stream",
     "text": [
      "Iter: 1, Cost: 0.24333132723782414\n",
      "Iter: 2, Cost: 0.24333133047472477\n",
      "Iter: 3, Cost: 0.24333133129426962\n",
      "Iter: 4, Cost: 0.24333132615131547\n",
      "Iter: 5, Cost: 0.24333132949044955\n",
      "Iter: 6, Cost: 0.24333132976764626\n",
      "Iter: 7, Cost: 0.24333132738433244\n",
      "Iter: 8, Cost: 0.24333132619487585\n",
      "Iter: 9, Cost: 0.2433313291637067\n",
      "Iter: 10, Cost: 0.2433313228442534\n",
      "Iter: 11, Cost: 0.2433313228181852\n",
      "Iter: 12, Cost: 0.24333132851095474\n",
      "Iter: 13, Cost: 0.2433313289493631\n",
      "Iter: 14, Cost: 0.24333132469430088\n",
      "Iter: 15, Cost: 0.2433313289973077\n",
      "Iter: 16, Cost: 0.24333132638107255\n",
      "Iter: 17, Cost: 0.24333132475629038\n",
      "Iter: 18, Cost: -0.5169059988600396\n",
      "Iter: 19, Cost: -0.516905997664119\n",
      "Iter: 20, Cost: -0.5169059989977125\n",
      "Iter: 21, Cost: -0.5169059982926109\n",
      "Iter: 22, Cost: -0.5169059983989454\n",
      "Iter: 23, Cost: -0.5169059975745571\n",
      "Iter: 24, Cost: -0.5169059984154509\n",
      "Iter: 25, Cost: -0.5169059983891413\n",
      "Iter: 26, Cost: -0.5169059989589309\n",
      "Iter: 27, Cost: -0.516905998793727\n",
      "Iter: 28, Cost: -0.5169059987696271\n",
      "Iter: 29, Cost: -0.5169059993141943\n",
      "Iter: 30, Cost: -0.5169059996304908\n",
      "Iter: 31, Cost: -0.5169060000338883\n",
      "Iter: 32, Cost: -0.5169059983246623\n",
      "Iter: 33, Cost: -0.516905998250046\n",
      "Iter: 34, Cost: -0.5169059987197522\n",
      "Iter: 35, Cost: -0.558948807198257\n",
      "Iter: 36, Cost: -0.5589488070627346\n",
      "Iter: 37, Cost: -0.5589488076311868\n",
      "Iter: 38, Cost: -0.5589488067718097\n",
      "Iter: 39, Cost: -0.5589488081083311\n",
      "Iter: 40, Cost: -0.5589488067191012\n",
      "Iter: 41, Cost: -0.5589488068046164\n",
      "Iter: 42, Cost: -0.5589488067780889\n",
      "Iter: 43, Cost: -0.5589488075950358\n",
      "Iter: 44, Cost: -0.5589488064962393\n",
      "Iter: 45, Cost: -0.5589488069107006\n",
      "Iter: 46, Cost: -0.558948807747005\n",
      "Iter: 47, Cost: -0.5589488075575606\n",
      "Iter: 48, Cost: -0.5589488072021811\n",
      "Iter: 49, Cost: -0.5589488080266238\n",
      "Iter: 50, Cost: -0.5589488066163726\n",
      "Iter: 51, Cost: -0.5589488067195288\n",
      "Iter: 52, Cost: -0.588986236975296\n",
      "Iter: 53, Cost: -0.5889862371852659\n",
      "Iter: 54, Cost: -0.5889862364298233\n",
      "Iter: 55, Cost: -0.5889862370129683\n",
      "Iter: 56, Cost: -0.588986237795878\n",
      "Iter: 57, Cost: -0.5889862364530809\n",
      "Iter: 58, Cost: -0.5889862366618921\n",
      "Iter: 59, Cost: -0.5889862369792783\n",
      "Iter: 60, Cost: -0.5889862370808675\n",
      "Iter: 61, Cost: -0.5889862367963732\n",
      "Iter: 62, Cost: -0.5889862376095765\n",
      "Iter: 63, Cost: -0.5889862371357613\n",
      "Iter: 64, Cost: -0.5889862369017524\n",
      "Iter: 65, Cost: -0.5889862367893048\n",
      "Iter: 66, Cost: -0.5889862373544391\n",
      "Iter: 67, Cost: -0.5889862364339401\n",
      "Iter: 68, Cost: -0.5889862370943488\n",
      "Iter: 69, Cost: -0.6136880076455669\n",
      "Iter: 70, Cost: -0.6136880085659563\n",
      "Iter: 71, Cost: -0.6136880071580594\n",
      "Iter: 72, Cost: -0.6136880079697344\n",
      "Iter: 73, Cost: -0.6136880077854255\n",
      "Iter: 74, Cost: -0.6136880072406241\n",
      "Iter: 75, Cost: -0.613688006836534\n",
      "Iter: 76, Cost: -0.6136880078939148\n",
      "Iter: 77, Cost: -0.6136880078803394\n",
      "Iter: 78, Cost: -0.6136880074948033\n",
      "Iter: 79, Cost: -0.6136880080729024\n",
      "Iter: 80, Cost: -0.6136880074554033\n",
      "Iter: 81, Cost: -0.6136880076981012\n",
      "Iter: 82, Cost: -0.6136880067353069\n",
      "Iter: 83, Cost: -0.6136880066902137\n",
      "Iter: 84, Cost: -0.6136880073202363\n",
      "Iter: 85, Cost: -0.6136880076948602\n",
      "Iter: 86, Cost: -0.6490880642337193\n",
      "Iter: 87, Cost: -0.6490880653714581\n",
      "Iter: 88, Cost: -0.6490880634268805\n",
      "Iter: 89, Cost: -0.6490880645190381\n",
      "Iter: 90, Cost: -0.6490880641356389\n",
      "Iter: 91, Cost: -0.649088063799983\n",
      "Iter: 92, Cost: -0.6490880636749568\n",
      "Iter: 93, Cost: -0.6490880646749376\n",
      "Iter: 94, Cost: -0.6490880641613205\n",
      "Iter: 95, Cost: -0.6490880645445396\n",
      "Iter: 96, Cost: -0.6490880645637002\n",
      "Iter: 97, Cost: -0.6490880636948354\n",
      "Iter: 98, Cost: -0.6490880643745571\n",
      "Iter: 99, Cost: -0.6490880635844426\n",
      "Iter: 100, Cost: -0.6490880629709777\n",
      "Iter: 101, Cost: -0.6490880642860197\n",
      "Iter: 102, Cost: -0.649088064665607\n",
      "Iter: 103, Cost: -0.6270201648950425\n",
      "Iter: 104, Cost: -0.6270201643150104\n",
      "Iter: 105, Cost: -0.62702016519367\n",
      "Iter: 106, Cost: -0.6270201647386475\n",
      "Iter: 107, Cost: -0.6270201639450119\n",
      "Iter: 108, Cost: -0.6270201655691229\n",
      "Iter: 109, Cost: -0.6270201655031261\n",
      "Iter: 110, Cost: -0.6270201656295146\n",
      "Iter: 111, Cost: -0.6270201644135687\n",
      "Iter: 112, Cost: -0.6270201649891547\n",
      "Iter: 113, Cost: -0.6270201638679082\n",
      "Iter: 114, Cost: -0.6270201643667856\n",
      "Iter: 115, Cost: -0.6270201645291604\n",
      "Iter: 116, Cost: -0.627020165879472\n",
      "Iter: 117, Cost: -0.627020165661701\n",
      "Iter: 118, Cost: -0.6270201659764093\n",
      "Iter: 119, Cost: -0.6270201647982316\n",
      "Iter: 120, Cost: -0.6791039951109055\n",
      "Iter: 121, Cost: -0.6791039958210363\n",
      "Iter: 122, Cost: -0.679103994725283\n",
      "Iter: 123, Cost: -0.6791039951255625\n",
      "Iter: 124, Cost: -0.679103994734787\n",
      "Iter: 125, Cost: -0.6791039949885208\n",
      "Iter: 126, Cost: -0.6791039949899818\n",
      "Iter: 127, Cost: -0.679103995592699\n",
      "Iter: 128, Cost: -0.6791039949122488\n",
      "Iter: 129, Cost: -0.6791039953439355\n",
      "Iter: 130, Cost: -0.6791039948109239\n",
      "Iter: 131, Cost: -0.6791039945893403\n",
      "Iter: 132, Cost: -0.6791039951912945\n",
      "Iter: 133, Cost: -0.679103995082059\n",
      "Iter: 134, Cost: -0.6791039944681649\n",
      "Iter: 135, Cost: -0.679103995607221\n",
      "Iter: 136, Cost: -0.6791039953798224\n",
      "Iter: 137, Cost: -0.6913981956541948\n",
      "Iter: 138, Cost: -0.6913981957760443\n",
      "Iter: 139, Cost: -0.6913981958243156\n",
      "Iter: 140, Cost: -0.6913981951631286\n",
      "Iter: 141, Cost: -0.6913981955841821\n",
      "Iter: 142, Cost: -0.6913981956489089\n",
      "Iter: 143, Cost: -0.6913981959257454\n",
      "Iter: 144, Cost: -0.6913981954503229\n",
      "Iter: 145, Cost: -0.6913981958126887\n",
      "Iter: 146, Cost: -0.6913981954071575\n",
      "Iter: 147, Cost: -0.6913981955080986\n",
      "Iter: 148, Cost: -0.6913981958376852\n",
      "Iter: 149, Cost: -0.6913981956317844\n",
      "Iter: 150, Cost: -0.6913981958947508\n",
      "Iter: 151, Cost: -0.691398195889867\n",
      "Iter: 152, Cost: -0.6913981957673574\n",
      "Iter: 153, Cost: -0.6913981954722546\n",
      "Iter: 154, Cost: -0.6946249905950278\n",
      "Iter: 155, Cost: -0.6946249907366541\n",
      "Iter: 156, Cost: -0.6946249906620421\n",
      "Iter: 157, Cost: -0.6946249902586878\n",
      "Iter: 158, Cost: -0.6946249906250163\n",
      "Iter: 159, Cost: -0.6946249905198872\n",
      "Iter: 160, Cost: -0.6946249906927672\n",
      "Iter: 161, Cost: -0.6946249904765531\n",
      "Iter: 162, Cost: -0.6946249906622536\n",
      "Iter: 163, Cost: -0.6946249905049104\n",
      "Iter: 164, Cost: -0.6946249904883934\n",
      "Iter: 165, Cost: -0.6946249906798376\n",
      "Iter: 166, Cost: -0.6946249906301313\n",
      "Iter: 167, Cost: -0.6946249908158565\n",
      "Iter: 168, Cost: -0.6946249907272704\n",
      "Iter: 169, Cost: -0.6946249906893884\n",
      "Iter: 170, Cost: -0.6946249905308433\n",
      "Iter: 171, Cost: -0.6995972948172803\n",
      "Iter: 172, Cost: -0.6995972948189109\n",
      "Iter: 173, Cost: -0.6995972949305539\n",
      "Iter: 174, Cost: -0.6995972948377781\n",
      "Iter: 175, Cost: -0.699597294923605\n",
      "Iter: 176, Cost: -0.6995972947918188\n",
      "Iter: 177, Cost: -0.6995972945679473\n",
      "Iter: 178, Cost: -0.6995972948465672\n",
      "Iter: 179, Cost: -0.6995972947781357\n",
      "Iter: 180, Cost: -0.6995972949656686\n",
      "Iter: 181, Cost: -0.6995972946439476\n",
      "Iter: 182, Cost: -0.699597294759018\n",
      "Iter: 183, Cost: -0.6995972949098652\n",
      "Iter: 184, Cost: -0.6995972949816176\n",
      "Iter: 185, Cost: -0.6995972948325967\n",
      "Iter: 186, Cost: -0.6995972949390673\n",
      "Iter: 187, Cost: -0.6995972948426412\n",
      "Iter: 188, Cost: -0.701904561649018\n",
      "Iter: 189, Cost: -0.7019045616772768\n",
      "Iter: 190, Cost: -0.7019045616233085\n",
      "Iter: 191, Cost: -0.7019045617278746\n",
      "Iter: 192, Cost: -0.7019045617542848\n",
      "Iter: 193, Cost: -0.7019045615970847\n",
      "Iter: 194, Cost: -0.7019045614532661\n",
      "Iter: 195, Cost: -0.70190456170476\n",
      "Iter: 196, Cost: -0.7019045615807924\n",
      "Iter: 197, Cost: -0.7019045617578026\n",
      "Iter: 198, Cost: -0.7019045616304675\n",
      "Iter: 199, Cost: -0.7019045615664015\n",
      "Iter: 200, Cost: -0.7019045617032519\n",
      "Iter: 201, Cost: -0.7019045617105902\n",
      "Iter: 202, Cost: -0.7019045615788048\n",
      "Iter: 203, Cost: -0.7019045616857613\n",
      "Iter: 204, Cost: -0.7019045617413291\n",
      "Iter: 205, Cost: -0.7028407211940257\n",
      "Iter: 206, Cost: -0.7028407211474079\n",
      "Iter: 207, Cost: -0.7028407212725577\n",
      "Iter: 208, Cost: -0.7028407212172243\n",
      "Iter: 209, Cost: -0.7028407211586659\n",
      "Iter: 210, Cost: -0.7028407212274661\n",
      "Iter: 211, Cost: -0.702840721153075\n",
      "Iter: 212, Cost: -0.7028407211737614\n",
      "Iter: 213, Cost: -0.7028407212272664\n",
      "Iter: 214, Cost: -0.7028407211947121\n",
      "Iter: 215, Cost: -0.7028407211256246\n",
      "Iter: 216, Cost: -0.7028407212247014\n",
      "Iter: 217, Cost: -0.7028407212002075\n",
      "Iter: 218, Cost: -0.702840721182553\n",
      "Iter: 219, Cost: -0.7028407212061687\n",
      "Iter: 220, Cost: -0.7028407212057588\n",
      "Iter: 221, Cost: -0.7028407211418453\n",
      "Iter: 222, Cost: -0.7029230965731359\n",
      "Iter: 223, Cost: -0.7029230965806048\n",
      "Iter: 224, Cost: -0.7029230965488642\n",
      "Iter: 225, Cost: -0.7029230965635203\n",
      "Iter: 226, Cost: -0.702923096577666\n",
      "Iter: 227, Cost: -0.7029230965622435\n",
      "Iter: 228, Cost: -0.7029230965922553\n",
      "Iter: 229, Cost: -0.7029230965770358\n",
      "Iter: 230, Cost: -0.702923096563021\n",
      "Iter: 231, Cost: -0.7029230965722004\n",
      "Iter: 232, Cost: -0.7029230965917985\n",
      "Iter: 233, Cost: -0.7029230965677895\n",
      "Iter: 234, Cost: -0.702923096572359\n",
      "Iter: 235, Cost: -0.7029230965789786\n",
      "Iter: 236, Cost: -0.7029230965751286\n",
      "Iter: 237, Cost: -0.7029230965674766\n",
      "Iter: 238, Cost: -0.7029230965872245\n",
      "Iter: 239, Cost: -0.7029303694170924\n",
      "Iter: 240, Cost: -0.7029303694172166\n",
      "Iter: 241, Cost: -0.7029303694165558\n",
      "Iter: 242, Cost: -0.7029303694174062\n",
      "Iter: 243, Cost: -0.7029303694159454\n",
      "Iter: 244, Cost: -0.7029303694163499\n",
      "Iter: 245, Cost: -0.7029303694165063\n",
      "Iter: 246, Cost: -0.7029303694172777\n",
      "Iter: 247, Cost: -0.702930369417055\n",
      "Iter: 248, Cost: -0.7029303694171158\n",
      "Iter: 249, Cost: -0.7029303694163719\n",
      "Iter: 250, Cost: -0.7029303694169869\n",
      "Iter: 251, Cost: -0.7029303694177405\n",
      "Iter: 252, Cost: -0.7029303694167688\n",
      "Iter: 253, Cost: -0.7029303694161091\n",
      "Iter: 254, Cost: -0.7029303694170546\n",
      "Iter: 255, Cost: -0.7029303694170628\n",
      "Iter: 256, Cost: -0.7029303910760006\n",
      "Iter: 257, Cost: -0.7029303910757148\n",
      "Iter: 258, Cost: -0.7029303910758501\n",
      "Iter: 259, Cost: -0.7029303910760085\n",
      "Iter: 260, Cost: -0.7029303910756074\n",
      "Iter: 261, Cost: -0.7029303910757652\n",
      "Iter: 262, Cost: -0.7029303910760155\n",
      "Iter: 263, Cost: -0.7029303910760046\n",
      "Iter: 264, Cost: -0.7029303910758824\n",
      "Iter: 265, Cost: -0.7029303910760941\n",
      "Iter: 266, Cost: -0.7029303910757378\n",
      "Iter: 267, Cost: -0.7029303910760589\n",
      "Iter: 268, Cost: -0.702930391076236\n",
      "Iter: 269, Cost: -0.7029303910761662\n",
      "Iter: 270, Cost: -0.702930391076033\n",
      "Iter: 271, Cost: -0.7029303910759491\n",
      "Iter: 272, Cost: -0.7029303910760429\n",
      "Iter: 273, Cost: -0.7029303944120425\n",
      "Iter: 274, Cost: -0.7029303944120354\n",
      "Iter: 275, Cost: -0.7029303944120755\n",
      "Iter: 276, Cost: -0.7029303944120187\n",
      "Iter: 277, Cost: -0.7029303944120263\n",
      "Iter: 278, Cost: -0.7029303944120511\n",
      "Iter: 279, Cost: -0.7029303944120538\n",
      "Iter: 280, Cost: -0.7029303944119979\n",
      "Iter: 281, Cost: -0.7029303944120954\n",
      "Iter: 282, Cost: -0.7029303944120057\n",
      "Iter: 283, Cost: -0.7029303944120368\n",
      "Iter: 284, Cost: -0.7029303944120904\n",
      "Iter: 285, Cost: -0.702930394412041\n",
      "Iter: 286, Cost: -0.702930394412017\n",
      "Iter: 287, Cost: -0.7029303944120532\n",
      "Iter: 288, Cost: -0.7029303944120187\n",
      "Iter: 289, Cost: -0.7029303944119918\n",
      "{   'fun': np.float64(-0.7029303944120425),\n",
      "    'jac': None,\n",
      "    'nfev': 289,\n",
      "    'nit': 15,\n",
      "    'njev': 17,\n",
      "    'x': array([ 1.19500265,  1.1809853 ,  1.99863056, -2.31319476, -0.89012889,\n",
      "       -2.37475362,  0.04747535,  0.12671857,  2.98483288, -0.09282369,\n",
      "        1.53848772,  2.25735711, -2.30944438,  0.29920019,  1.05305687,\n",
      "       -1.19416173])}\n"
     ]
    }
   ],
   "execution_count": 145
  },
  {
   "metadata": {},
   "cell_type": "markdown",
   "source": [
    "## Understanding the Results\n",
    "\n",
    "The above result shows us:\n",
    "- `fun`: the final optimised cost.\n",
    "- `nfev`: the amount of function evaluations, i.e. evaluations of the  cost function.\n",
    "- `jac`: if a jacobian function was used (in this case we did not use one, and we used finite differences to evaluate the gradient).\n",
    "- `nit`: the number of iterations, i.e. the number of times the minimum was updated.\n",
    "- `njev`: the number of times the gradient was evaluated.\n",
    "- `x`: the final optimized parameters for our PQC.\n",
    "\n",
    "Let us now plot some results."
   ]
  },
  {
   "metadata": {
    "ExecuteTime": {
     "end_time": "2024-09-01T10:39:57.756097Z",
     "start_time": "2024-09-01T10:39:57.613707Z"
    }
   },
   "cell_type": "code",
   "source": [
    "fig, ax = plt.subplots()\n",
    "ax.plot(range(cost_history_dict[\"iters\"]), cost_history_dict[\"cost_history\"])\n",
    "ax.set_xlabel(\"Iterations\")\n",
    "ax.set_ylabel(\"Cost\")\n",
    "plt.draw()"
   ],
   "outputs": [
    {
     "data": {
      "text/plain": [
       "<Figure size 640x480 with 1 Axes>"
      ],
      "image/png": "[encoded data removed]"
     },
     "metadata": {},
     "output_type": "display_data"
    }
   ],
   "execution_count": 146
  },
  {
   "metadata": {},
   "cell_type": "markdown",
   "source": [
    "## Looking at the Plot\n",
    "\n",
    "We can see the cost decreasing as the number of iterations increase. Now how do we confirm that we have achieved the minimum?\n",
    "\n",
    "For small problems we can compute the minimum by diagonalizing the Hamiltonian."
   ]
  },
  {
   "metadata": {
    "ExecuteTime": {
     "end_time": "2024-09-01T10:39:57.884348Z",
     "start_time": "2024-09-01T10:39:57.775747Z"
    }
   },
   "cell_type": "code",
   "source": [
    "# Getting eigenvalues and eigenvectors from the hamiltonian\n",
    "u, v = np.linalg.eigh(hamiltonian)\n",
    "\n",
    "# Printing lowest eigenvalue\n",
    "print(min(u))\n",
    "\n",
    "# Updating plot\n",
    "ax.axhline(y = min(u), color='orange', linestyle = '--')\n",
    "fig"
   ],
   "outputs": [
    {
     "name": "stdout",
     "output_type": "stream",
     "text": [
      "-0.702930394459531\n"
     ]
    },
    {
     "data": {
      "text/plain": [
       "<Figure size 640x480 with 1 Axes>"
      ],
      "image/png": "[encoded data removed]"
     },
     "execution_count": 147,
     "metadata": {},
     "output_type": "execute_result"
    }
   ],
   "execution_count": 147
  },
  {
   "metadata": {},
   "cell_type": "markdown",
   "source": ""
  },
  {
   "metadata": {},
   "cell_type": "markdown",
   "source": [
    "# We can now see that the minimum is achieved!\n",
    "\n",
    "Now try to experiment with changing the optimizer (remember to import them from qiskit_algorithms.optimizers):\n",
    "\n",
    "You can find a list of them supported by `Qiskit` [here](https://qiskit-community.github.io/qiskit-algorithms/apidocs/qiskit_algorithms.optimizers.html).\n",
    "\n",
    "Gradient-based:\n",
    "- GradientDescent: typical gradient descent method.\n",
    "- `SPSA`: a stochastic method.\n",
    "\n",
    "Gradient-free:\n",
    "- `NELDER_MEAD`: simplex method.\n",
    "- `COBYLA`: constrained optimization by linear approximation."
   ]
  },
  {
   "metadata": {
    "ExecuteTime": {
     "end_time": "2024-09-01T10:39:57.933066Z",
     "start_time": "2024-09-01T10:39:57.929009Z"
    }
   },
   "cell_type": "code",
   "source": [
    "# from qiskit_algorithms.optimizers import <optimizer>\n",
    "# \n",
    "# optimizer = <optimizer>()\n",
    "# result = optimizer.minimize(fun=cost_function, x0=x0)\n",
    "# \n",
    "# print(result)\n",
    "# \n",
    "# fig, ax = plt.subplots()\n",
    "# ax.plot(range(cost_history_dict[\"iters\"]), cost_history_dict[\"cost_history\"])\n",
    "# ax.axhline(y = min(u), color='orange', linestyle = '--')\n",
    "# ax.set_xlabel(\"Iterations\")\n",
    "# ax.set_ylabel(\"Cost\")\n",
    "# plt.draw()"
   ],
   "outputs": [],
   "execution_count": 148
  }
 ],
 "metadata": {
  "kernelspec": {
   "display_name": "Python 3 (ipykernel)",
   "language": "python",
   "name": "python3"
  },
  "language_info": {
   "codemirror_mode": {
    "name": "ipython",
    "version": 3
   },
   "file_extension": ".py",
   "mimetype": "text/x-python",
   "name": "python",
   "nbconvert_exporter": "python",
   "pygments_lexer": "ipython3",
   "version": "3.11.9"
  }
 },
 "nbformat": 4,
 "nbformat_minor": 4
}
