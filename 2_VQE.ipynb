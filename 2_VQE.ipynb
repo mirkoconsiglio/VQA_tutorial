{
 "cells": [
  {
   "metadata": {
    "collapsed": false,
    "jupyter": {
     "outputs_hidden": false
    },
    "pycharm": {
     "is_executing": true
    },
    "ExecuteTime": {
     "end_time": "2024-09-03T11:28:14.793958Z",
     "start_time": "2024-09-03T11:28:12.124478Z"
    }
   },
   "cell_type": "code",
   "source": [
    "import numpy as np\n",
    "\n",
    "# Pre-defined ansatz circuit and operator class for Hamiltonian\n",
    "from qiskit.circuit.library import EfficientSU2\n",
    "from qiskit.quantum_info import SparsePauliOp, Statevector\n",
    "\n",
    "# optimizer imports\n",
    "from qiskit_algorithms.optimizers import *\n",
    "\n",
    "# Plotting functions\n",
    "import matplotlib.pyplot as plt\n",
    "\n",
    "from functools import partial\n",
    "\n",
    "# Global dictionary\n",
    "cost_history_dict = {\n",
    "\t\"prev_vector\": None,\n",
    "\t\"iters\": 0,\n",
    "\t\"cost_history\": [],\n",
    "}\n",
    "\n",
    "from qiskit_ibm_runtime import Session\n",
    "from qiskit_ibm_runtime import EstimatorV2 as Estimator\n",
    "\n",
    "# To run on hardware, select the backend with the fewest number of jobs in the queue\n",
    "from qiskit_aer import AerSimulator\n",
    "backend = AerSimulator()"
   ],
   "outputs": [],
   "execution_count": 1
  },
  {
   "metadata": {
    "collapsed": false,
    "jupyter": {
     "outputs_hidden": false
    }
   },
   "cell_type": "markdown",
   "source": [
    "## Hamiltonian\n",
    "\n",
    "Our next two components: the PQC and measurement strategy, may depend quite a bit on our Hamiltonian, and any constraints which we wish to satisfy (however for the sake of simplicity we will suppose that we have no extra constraints). However, for now we shall take statevector simulations, that is we assume that we have perfect information of the quantum state (we have access to its vector representation). Thus, we need not worry about the measurement technique yet. This is useful for prototyping your VQA, ensuring that everything works.\n",
    "\n",
    "We shall take a simplified $H_2$ model at $0.735$Å, which can be written in Qiskit as"
   ]
  },
  {
   "metadata": {
    "collapsed": false,
    "jupyter": {
     "outputs_hidden": false
    },
    "ExecuteTime": {
     "end_time": "2024-09-03T11:28:14.815716Z",
     "start_time": "2024-09-03T11:28:14.810431Z"
    }
   },
   "cell_type": "code",
   "source": [
    "hamiltonian = SparsePauliOp.from_list(\n",
    "    [(\"YZ\", 0.3980), (\"ZI\", -0.3980), (\"ZZ\", -0.0113), (\"XX\", 0.1810)]\n",
    ")"
   ],
   "outputs": [],
   "execution_count": 2
  },
  {
   "metadata": {
    "collapsed": false,
    "jupyter": {
     "outputs_hidden": false
    }
   },
   "cell_type": "markdown",
   "source": [
    "## Parameterized quantum circuit\n",
    "\n",
    "Now let's proceed to use a simple two local ansatz, that is an ansatz which alternates between parameterized one-qubit gates, and (non-parameterized) two-qubit entangling gates"
   ]
  },
  {
   "metadata": {
    "collapsed": false,
    "jupyter": {
     "outputs_hidden": false
    },
    "ExecuteTime": {
     "end_time": "2024-09-03T11:28:16.359001Z",
     "start_time": "2024-09-03T11:28:15.036192Z"
    }
   },
   "cell_type": "code",
   "source": [
    "ansatz = EfficientSU2(hamiltonian.num_qubits)\n",
    "ansatz.decompose().draw(\"mpl\", style=\"iqp\")"
   ],
   "outputs": [
    {
     "data": {
      "text/plain": [
       "<Figure size 1039.79x200.667 with 1 Axes>"
      ],
      "image/png": "[encoded data removed]"
     },
     "execution_count": 3,
     "metadata": {},
     "output_type": "execute_result"
    }
   ],
   "execution_count": 3
  },
  {
   "metadata": {},
   "cell_type": "markdown",
   "source": [
    "## Preparing for Quantum Execution\n",
    "\n",
    "To reduce the total job execution time, Qiskit primitives only accept circuits (ansatz) and observables (Hamiltonian) that conform to the instructions and connectivity supported by the target system (referred to as instruction set architecture (ISA) circuits and observables).\n",
    "\n",
    "ISA circuit Schedule a series of `qiskit.transpiler` passes to optimize the circuit for a selected backend and make it compatible with the backend's ISA. This can be easily done with a preset pass manager from `qiskit.transpiler` and its `optimization_level` parameter.\n",
    "\n",
    "The lowest optimization level does the minimum needed to get the circuit running on the device; it maps the circuit qubits to the device qubits and adds swap gates to allow all two-qubit operations. The highest optimization level is much smarter and uses lots of tricks to reduce the overall gate count. Since multi-qubit gates have high error rates and qubits decohere over time, the shorter circuits should give better results."
   ]
  },
  {
   "metadata": {
    "ExecuteTime": {
     "end_time": "2024-09-03T11:28:16.429606Z",
     "start_time": "2024-09-03T11:28:16.387934Z"
    }
   },
   "cell_type": "code",
   "source": [
    "# In principle, this code is not needed unless we intend to run it on a quantum device\n",
    "from qiskit.transpiler.preset_passmanagers import generate_preset_pass_manager\n",
    "\n",
    "target = backend.target\n",
    "pm = generate_preset_pass_manager(target=target, optimization_level=3)\n",
    "\n",
    "ansatz_isa = pm.run(ansatz)"
   ],
   "outputs": [],
   "execution_count": 4
  },
  {
   "metadata": {},
   "cell_type": "markdown",
   "source": [
    "## ISA observable\n",
    "\n",
    "Transform the Hamiltonian to make it backend-compatible before running jobs with `Runtime Estimator V2`. Perform the transformation by using the apply_layout method of SparsePauliOp object."
   ]
  },
  {
   "metadata": {
    "ExecuteTime": {
     "end_time": "2024-09-03T11:28:16.469760Z",
     "start_time": "2024-09-03T11:28:16.464221Z"
    }
   },
   "cell_type": "code",
   "source": "hamiltonian_isa = hamiltonian.apply_layout(layout=ansatz_isa.layout)",
   "outputs": [],
   "execution_count": 5
  },
  {
   "metadata": {
    "collapsed": false,
    "jupyter": {
     "outputs_hidden": false
    }
   },
   "cell_type": "markdown",
   "source": [
    "$$\\newcommand{\\ket}[1]{\\left|{#1}\\right\\rangle}$$\n",
    "$$\\newcommand{\\bra}[1]{\\left\\langle{#1}\\right|}$$\n",
    "\n",
    "# Variational Quantum Eigensolver\n",
    "\n",
    "The VQE is the first type of hybrid quantum--classical which was proposed, and it is the first one we will deal with. The cost function in this case based on the Ritz variational principle, that is\n",
    "\n",
    "\\begin{equation}\n",
    "    C(\\boldsymbol{\\theta}) = \\bra{\\psi(\\boldsymbol{\\theta})}\\mathcal{H}\\ket{psi(\\boldsymbol{\\theta})}.\n",
    "\\end{equation}\n",
    "\n",
    "The minimum of this function is the ground-state energy:\n",
    "\n",
    "\\begin{equation}\n",
    "    E_0 = \\min_{\\boldsymbol{\\theta}}\\bra{\\psi(\\boldsymbol{\\theta})}\\mathcal{H}\\ket{psi(\\boldsymbol{\\theta})}.\n",
    "\\end{equation}\n",
    "\n",
    "We thus have the first component of our VQA, the cost function.\n",
    "\n",
    "With the Qiskit Runtime `Estimator` directly taking a Hamiltonian and parameterized ansatz, and returning the necessary energy, the cost function for a VQE instance is quite simple.\n",
    "\n",
    "Note that the `run()` method of Qiskit Runtime `EstimatorV2` takes an iterable of `primitive unified blocs (PUBs)`. Each PUB is an iterable in the format `(circuit, observables, parameter_values: Optional, precision: Optional)`.\n"
   ]
  },
  {
   "metadata": {
    "ExecuteTime": {
     "end_time": "2024-09-03T11:28:16.521833Z",
     "start_time": "2024-09-03T11:28:16.516558Z"
    }
   },
   "cell_type": "code",
   "source": [
    "def cost_function(params, ansatz, hamiltonian, estimator):\n",
    "\tpub = (ansatz, [hamiltonian], [params])\n",
    "\tresult = estimator.run(pubs=[pub]).result()\n",
    "\tenergy = result[0].data.evs[0]\n",
    "\t\n",
    "\tcost_history_dict[\"iters\"] += 1\n",
    "\tcost_history_dict[\"prev_vector\"] = params\n",
    "\tcost_history_dict[\"cost_history\"].append(energy)\n",
    "\tprint(f\"Iters. done: {cost_history_dict['iters']} [Current cost: {energy}]\")\n",
    "\t\n",
    "\treturn energy"
   ],
   "outputs": [],
   "execution_count": 6
  },
  {
   "cell_type": "markdown",
   "metadata": {
    "collapsed": false,
    "jupyter": {
     "outputs_hidden": false
    }
   },
   "source": [
    "## Classical optimizer\n",
    "\n",
    "As we said, for now shall focus on statevector simulations and not worry about measurements. The next step is then choose a classical optimizer. Qiskit has many optimizers to choose from. Quite a bit of them are based on Scipy's implementations. We will take the COBYLA optimizer for the time being."
   ]
  },
  {
   "cell_type": "code",
   "metadata": {
    "collapsed": false,
    "jupyter": {
     "outputs_hidden": false
    },
    "ExecuteTime": {
     "end_time": "2024-09-03T11:28:16.571937Z",
     "start_time": "2024-09-03T11:28:16.567882Z"
    }
   },
   "source": "optimizer = COBYLA()",
   "outputs": [],
   "execution_count": 7
  },
  {
   "cell_type": "markdown",
   "metadata": {
    "collapsed": false,
    "jupyter": {
     "outputs_hidden": false
    }
   },
   "source": [
    "## Putting it all together\n",
    "\n",
    "We now just need to run the algorithm optimizing through to get our ground-state energy"
   ]
  },
  {
   "cell_type": "code",
   "metadata": {
    "collapsed": false,
    "jupyter": {
     "outputs_hidden": false
    },
    "ExecuteTime": {
     "end_time": "2024-09-03T11:28:45.634023Z",
     "start_time": "2024-09-03T11:28:16.626172Z"
    }
   },
   "source": [
    "x0 = np.random.uniform(-np.pi, np.pi, len(ansatz.parameters))  # We need an initial point (which can be random)\n",
    "\n",
    "with Session(backend=backend) as session:\n",
    "\testimator = Estimator(mode=session)\n",
    "\testimator.options.default_shots = 10000\n",
    "\t\t\n",
    "\twrapped_cost_fuction = partial(cost_function, ansatz=ansatz_isa, hamiltonian=hamiltonian_isa, estimator=estimator)\n",
    "\tresult = optimizer.minimize(fun=wrapped_cost_fuction, x0=x0)\n",
    "\n",
    "print(result)"
   ],
   "outputs": [
    {
     "name": "stdout",
     "output_type": "stream",
     "text": [
      "Iters. done: 1 [Current cost: 0.17727334000000006]\n",
      "Iters. done: 2 [Current cost: 0.09491160000000003]\n",
      "Iters. done: 3 [Current cost: 0.11445962]\n",
      "Iters. done: 4 [Current cost: 0.31947454000000003]\n",
      "Iters. done: 5 [Current cost: 0.11564458]\n",
      "Iters. done: 6 [Current cost: 0.25708338000000003]\n",
      "Iters. done: 7 [Current cost: -0.29484]\n",
      "Iters. done: 8 [Current cost: -0.011804079999999967]\n",
      "Iters. done: 9 [Current cost: -0.50751918]\n",
      "Iters. done: 10 [Current cost: -0.33783917999999996]\n",
      "Iters. done: 11 [Current cost: -0.26545]\n",
      "Iters. done: 12 [Current cost: -0.31309904000000005]\n",
      "Iters. done: 13 [Current cost: -0.19387833999999998]\n",
      "Iters. done: 14 [Current cost: -0.32750266000000006]\n",
      "Iters. done: 15 [Current cost: -0.10299307999999999]\n",
      "Iters. done: 16 [Current cost: -0.37012988]\n",
      "Iters. done: 17 [Current cost: -0.41050380000000003]\n",
      "Iters. done: 18 [Current cost: -0.45347203999999997]\n",
      "Iters. done: 19 [Current cost: -0.47639070000000006]\n",
      "Iters. done: 20 [Current cost: -0.4920217800000001]\n",
      "Iters. done: 21 [Current cost: -0.43771659999999996]\n",
      "Iters. done: 22 [Current cost: -0.5081888400000001]\n",
      "Iters. done: 23 [Current cost: -0.4991219600000001]\n",
      "Iters. done: 24 [Current cost: -0.48443063999999997]\n",
      "Iters. done: 25 [Current cost: -0.43644869999999997]\n",
      "Iters. done: 26 [Current cost: -0.6054443600000001]\n",
      "Iters. done: 27 [Current cost: -0.63825244]\n",
      "Iters. done: 28 [Current cost: -0.60879986]\n",
      "Iters. done: 29 [Current cost: -0.6193122200000001]\n",
      "Iters. done: 30 [Current cost: -0.6508893599999999]\n",
      "Iters. done: 31 [Current cost: -0.5927592800000001]\n",
      "Iters. done: 32 [Current cost: -0.64698806]\n",
      "Iters. done: 33 [Current cost: -0.6035349]\n",
      "Iters. done: 34 [Current cost: -0.62350626]\n",
      "Iters. done: 35 [Current cost: -0.64375284]\n",
      "Iters. done: 36 [Current cost: -0.6631918800000001]\n",
      "Iters. done: 37 [Current cost: -0.64736626]\n",
      "Iters. done: 38 [Current cost: -0.6623889000000001]\n",
      "Iters. done: 39 [Current cost: -0.6006553600000001]\n",
      "Iters. done: 40 [Current cost: -0.6673519200000001]\n",
      "Iters. done: 41 [Current cost: -0.66426708]\n",
      "Iters. done: 42 [Current cost: -0.631893]\n",
      "Iters. done: 43 [Current cost: -0.6572396800000001]\n",
      "Iters. done: 44 [Current cost: -0.6581556000000001]\n",
      "Iters. done: 45 [Current cost: -0.6659324400000001]\n",
      "Iters. done: 46 [Current cost: -0.6301071199999999]\n",
      "Iters. done: 47 [Current cost: -0.6434276200000001]\n",
      "Iters. done: 48 [Current cost: -0.65750278]\n",
      "Iters. done: 49 [Current cost: -0.65778588]\n",
      "Iters. done: 50 [Current cost: -0.6464857199999999]\n",
      "Iters. done: 51 [Current cost: -0.6516274600000002]\n",
      "Iters. done: 52 [Current cost: -0.6283420200000001]\n",
      "Iters. done: 53 [Current cost: -0.65180136]\n",
      "Iters. done: 54 [Current cost: -0.6488427400000001]\n",
      "Iters. done: 55 [Current cost: -0.6378179199999999]\n",
      "Iters. done: 56 [Current cost: -0.6569588000000001]\n",
      "Iters. done: 57 [Current cost: -0.65607236]\n",
      "Iters. done: 58 [Current cost: -0.64551948]\n",
      "Iters. done: 59 [Current cost: -0.6524084000000001]\n",
      "Iters. done: 60 [Current cost: -0.6628496]\n",
      "Iters. done: 61 [Current cost: -0.6533726400000001]\n",
      "Iters. done: 62 [Current cost: -0.6629705800000001]\n",
      "Iters. done: 63 [Current cost: -0.6552806000000001]\n",
      "Iters. done: 64 [Current cost: -0.65195582]\n",
      "Iters. done: 65 [Current cost: -0.66945014]\n",
      "Iters. done: 66 [Current cost: -0.65816364]\n",
      "Iters. done: 67 [Current cost: -0.65614756]\n",
      "Iters. done: 68 [Current cost: -0.6553596200000001]\n",
      "Iters. done: 69 [Current cost: -0.6593496600000001]\n",
      "Iters. done: 70 [Current cost: -0.65113718]\n",
      "Iters. done: 71 [Current cost: -0.65763322]\n",
      "Iters. done: 72 [Current cost: -0.64919766]\n",
      "Iters. done: 73 [Current cost: -0.6569485400000001]\n",
      "Iters. done: 74 [Current cost: -0.65762944]\n",
      "Iters. done: 75 [Current cost: -0.6479583200000001]\n",
      "Iters. done: 76 [Current cost: -0.6579248200000001]\n",
      "Iters. done: 77 [Current cost: -0.6642072]\n",
      "Iters. done: 78 [Current cost: -0.66100224]\n",
      "Iters. done: 79 [Current cost: -0.65822816]\n",
      "Iters. done: 80 [Current cost: -0.6518123799999999]\n",
      "Iters. done: 81 [Current cost: -0.6639376000000001]\n",
      "Iters. done: 82 [Current cost: -0.6579731]\n",
      "Iters. done: 83 [Current cost: -0.6548132799999999]\n",
      "Iters. done: 84 [Current cost: -0.65325486]\n",
      "Iters. done: 85 [Current cost: -0.657551]\n",
      "Iters. done: 86 [Current cost: -0.6601865800000001]\n",
      "Iters. done: 87 [Current cost: -0.65792654]\n",
      "Iters. done: 88 [Current cost: -0.650502]\n",
      "Iters. done: 89 [Current cost: -0.6621609399999999]\n",
      "Iters. done: 90 [Current cost: -0.6605251400000001]\n",
      "Iters. done: 91 [Current cost: -0.6545738600000001]\n",
      "Iters. done: 92 [Current cost: -0.65846522]\n",
      "Iters. done: 93 [Current cost: -0.65453512]\n",
      "Iters. done: 94 [Current cost: -0.6577463200000001]\n",
      "Iters. done: 95 [Current cost: -0.6546600600000001]\n",
      "Iters. done: 96 [Current cost: -0.66008298]\n",
      "Iters. done: 97 [Current cost: -0.66071368]\n",
      "Iters. done: 98 [Current cost: -0.6527982000000001]\n",
      "Iters. done: 99 [Current cost: -0.6601752200000001]\n",
      "Iters. done: 100 [Current cost: -0.6602602599999999]\n",
      "Iters. done: 101 [Current cost: -0.66453002]\n",
      "Iters. done: 102 [Current cost: -0.66481132]\n",
      "Iters. done: 103 [Current cost: -0.6596962399999999]\n",
      "Iters. done: 104 [Current cost: -0.6525488]\n",
      "Iters. done: 105 [Current cost: -0.6656416800000001]\n",
      "Iters. done: 106 [Current cost: -0.65600684]\n",
      "Iters. done: 107 [Current cost: -0.6594767200000001]\n",
      "Iters. done: 108 [Current cost: -0.6650942400000001]\n",
      "Iters. done: 109 [Current cost: -0.65922798]\n",
      "Iters. done: 110 [Current cost: -0.66303558]\n",
      "Iters. done: 111 [Current cost: -0.65754402]\n",
      "Iters. done: 112 [Current cost: -0.6544707000000001]\n",
      "Iters. done: 113 [Current cost: -0.6633281]\n",
      "Iters. done: 114 [Current cost: -0.65304902]\n",
      "Iters. done: 115 [Current cost: -0.6540569399999999]\n",
      "Iters. done: 116 [Current cost: -0.6562041200000001]\n",
      "Iters. done: 117 [Current cost: -0.6575372600000001]\n",
      "Iters. done: 118 [Current cost: -0.65863344]\n",
      "Iters. done: 119 [Current cost: -0.656052]\n",
      "Iters. done: 120 [Current cost: -0.6592637800000001]\n",
      "Iters. done: 121 [Current cost: -0.65583232]\n",
      "Iters. done: 122 [Current cost: -0.6578896200000001]\n",
      "Iters. done: 123 [Current cost: -0.65660026]\n",
      "Iters. done: 124 [Current cost: -0.6596169199999999]\n",
      "Iters. done: 125 [Current cost: -0.65965458]\n",
      "Iters. done: 126 [Current cost: -0.6610710399999999]\n",
      "Iters. done: 127 [Current cost: -0.65819922]\n",
      "Iters. done: 128 [Current cost: -0.65368684]\n",
      "Iters. done: 129 [Current cost: -0.65455006]\n",
      "Iters. done: 130 [Current cost: -0.6573065]\n",
      "Iters. done: 131 [Current cost: -0.65285724]\n",
      "Iters. done: 132 [Current cost: -0.66225054]\n",
      "Iters. done: 133 [Current cost: -0.65297992]\n",
      "Iters. done: 134 [Current cost: -0.66084552]\n",
      "Iters. done: 135 [Current cost: -0.6627796000000001]\n",
      "Iters. done: 136 [Current cost: -0.6569172600000001]\n",
      "Iters. done: 137 [Current cost: -0.65359304]\n",
      "Iters. done: 138 [Current cost: -0.65909374]\n",
      "Iters. done: 139 [Current cost: -0.6673113800000001]\n",
      "Iters. done: 140 [Current cost: -0.65359038]\n",
      "{   'fun': np.float64(-0.65359038),\n",
      "    'jac': None,\n",
      "    'nfev': 140,\n",
      "    'nit': None,\n",
      "    'njev': None,\n",
      "    'x': array([ 1.6218518 , -0.13897287,  1.11399433, -2.18198837,  1.78246465,\n",
      "        3.43075824, -1.60649904,  0.80002813, -0.69505002, -1.16218094,\n",
      "       -1.72879884,  2.42486539,  0.61978416, -0.37496469,  0.24895409,\n",
      "        1.35379443])}\n"
     ]
    }
   ],
   "execution_count": 8
  },
  {
   "metadata": {},
   "cell_type": "markdown",
   "source": [
    "## Understanding the Results\n",
    "\n",
    "The above result shows us:\n",
    "- `fun`: the final optimised cost.\n",
    "- `nfev`: the amount of function evaluations, i.e. evaluations of the  cost function.\n",
    "- `jac`: if a jacobian function was used (in this case we did not use one, and we used finite differences to evaluate the gradient).\n",
    "- `nit`: the number of iterations, i.e. the number of times the minimum was updated.\n",
    "- `njev`: the number of times the gradient was evaluated.\n",
    "- `x`: the final optimized parameters for our PQC.\n",
    "\n",
    "Let us now plot some results."
   ]
  },
  {
   "metadata": {
    "ExecuteTime": {
     "end_time": "2024-09-03T11:28:45.996542Z",
     "start_time": "2024-09-03T11:28:45.772418Z"
    }
   },
   "cell_type": "code",
   "source": [
    "fig, ax = plt.subplots()\n",
    "ax.plot(range(cost_history_dict[\"iters\"]), cost_history_dict[\"cost_history\"])\n",
    "ax.set_xlabel(\"Iterations\")\n",
    "ax.set_ylabel(\"Cost\")\n",
    "plt.draw()"
   ],
   "outputs": [
    {
     "data": {
      "text/plain": [
       "<Figure size 640x480 with 1 Axes>"
      ],
      "image/png": "[encoded data removed]"
     },
     "metadata": {},
     "output_type": "display_data"
    }
   ],
   "execution_count": 9
  },
  {
   "metadata": {},
   "cell_type": "markdown",
   "source": [
    "## Looking at the Plot\n",
    "\n",
    "We can see the cost decreasing as the number of iterations increase. Now how do we confirm that we have achieved the minimum?\n",
    "\n",
    "For small problems we can compute the minimum by diagonalizing the Hamiltonian."
   ]
  },
  {
   "metadata": {
    "ExecuteTime": {
     "end_time": "2024-09-03T11:28:46.197519Z",
     "start_time": "2024-09-03T11:28:46.024380Z"
    }
   },
   "cell_type": "code",
   "source": [
    "# Getting eigenvalues and eigenvectors from the hamiltonian\n",
    "u, v = np.linalg.eigh(hamiltonian)\n",
    "\n",
    "# Printing lowest eigenvalue\n",
    "print(min(u))\n",
    "\n",
    "# Updating plot\n",
    "ax.axhline(y = min(u), color='orange', linestyle = '--')\n",
    "fig"
   ],
   "outputs": [
    {
     "name": "stdout",
     "output_type": "stream",
     "text": [
      "-0.702930394459531\n"
     ]
    },
    {
     "data": {
      "text/plain": [
       "<Figure size 640x480 with 1 Axes>"
      ],
      "image/png": "[encoded data removed]"
     },
     "execution_count": 10,
     "metadata": {},
     "output_type": "execute_result"
    }
   ],
   "execution_count": 10
  },
  {
   "metadata": {},
   "cell_type": "markdown",
   "source": ""
  },
  {
   "metadata": {},
   "cell_type": "markdown",
   "source": [
    "# We can now see that the minimum is achieved!\n",
    "\n",
    "\n",
    "\n"
   ]
  },
  {
   "metadata": {},
   "cell_type": "markdown",
   "source": [
    "## Trying Different Optimizers\n",
    "\n",
    "Now try to experiment with changing the optimizer: you can find a list of them supported by `Qiskit` [here](https://qiskit-community.github.io/qiskit-algorithms/apidocs/qiskit_algorithms.optimizers.html).\n",
    "\n",
    "Gradient-based:\n",
    "- `L_BFGS_B`': second-order gradient descent method.\n",
    "- `SPSA`: a stochastic gradient descent method.\n",
    "\n",
    "Gradient-free:\n",
    "- `NELDER_MEAD`: simplex method.\n",
    "- `POWELL`: conjugate direction method."
   ]
  },
  {
   "metadata": {
    "ExecuteTime": {
     "end_time": "2024-09-03T11:28:46.243764Z",
     "start_time": "2024-09-03T11:28:46.240722Z"
    }
   },
   "cell_type": "code",
   "source": "",
   "outputs": [],
   "execution_count": null
  },
  {
   "metadata": {
    "ExecuteTime": {
     "end_time": "2024-09-03T11:28:46.305088Z",
     "start_time": "2024-09-03T11:28:46.299582Z"
    }
   },
   "cell_type": "code",
   "source": [
    "# optimizer = <OPTIMIZER>()\n",
    "# \n",
    "# with Session(backend=backend) as session:\n",
    "# \testimator = Estimator(mode=session)\n",
    "# \testimator.options.default_shots = 10000\n",
    "# \t\n",
    "# \twrapped_cost_fuction = partial(cost_function, ansatz=ansatz_isa, hamiltonian=hamiltonian_isa, estimator=estimator)\n",
    "# \tresult = optimizer.minimize(fun=wrapped_cost_fuction, x0=x0)\n",
    "# \n",
    "# print(result)\n",
    "# \n",
    "# fig, ax = plt.subplots()\n",
    "# ax.plot(range(cost_history_dict[\"iters\"]), cost_history_dict[\"cost_history\"])\n",
    "# ax.axhline(y = min(u), color='orange', linestyle = '--')\n",
    "# ax.set_xlabel(\"Iterations\")\n",
    "# ax.set_ylabel(\"Cost\")\n",
    "# plt.draw()"
   ],
   "outputs": [],
   "execution_count": 11
  }
 ],
 "metadata": {
  "kernelspec": {
   "display_name": "Python 3 (ipykernel)",
   "language": "python",
   "name": "python3"
  },
  "language_info": {
   "codemirror_mode": {
    "name": "ipython",
    "version": 3
   },
   "file_extension": ".py",
   "mimetype": "text/x-python",
   "name": "python",
   "nbconvert_exporter": "python",
   "pygments_lexer": "ipython3",
   "version": "3.11.9"
  }
 },
 "nbformat": 4,
 "nbformat_minor": 4
}
